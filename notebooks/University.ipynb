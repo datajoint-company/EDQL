{
 "cells": [
  {
   "cell_type": "code",
   "execution_count": 1,
   "metadata": {},
   "outputs": [],
   "source": [
    "import datajoint as dj"
   ]
  },
  {
   "cell_type": "code",
   "execution_count": 2,
   "metadata": {},
   "outputs": [
    {
     "name": "stdout",
     "output_type": "stream",
     "text": [
      "Connecting dimitri@localhost:3306\n"
     ]
    }
   ],
   "source": [
    "schema = dj.schema('dimitri_university', locals())"
   ]
  },
  {
   "cell_type": "code",
   "execution_count": 3,
   "metadata": {},
   "outputs": [],
   "source": [
    "@schema\n",
    "class Student(dj.Manual):\n",
    "    definition = \"\"\"\n",
    "    student_id : int unsigned   # university-wide ID number\n",
    "    ---\n",
    "    first_name      : varchar(40)\n",
    "    last_name       : varchar(40)\n",
    "    sex             : enum('F', 'M', 'U')\n",
    "    date_of_birth   : date\n",
    "    student_address : varchar(200) # mailing address\n",
    "    student_phone   : varchar(14)    \n",
    "    \"\"\"\n",
    "    \n",
    "@schema\n",
    "class Department(dj.Manual):\n",
    "    definition = \"\"\"\n",
    "    dept : varchar(6)   # abbreviated department name, e.g. BIOL\n",
    "    ---\n",
    "    dept_name    : varchar(200)  # full department name\n",
    "    dept_address : varchar(200)  # mailing address\n",
    "    dept_phone   : varchar(14)\n",
    "    \"\"\"\n",
    "\n",
    "@schema\n",
    "class StudentMajor(dj.Manual):\n",
    "    definition = \"\"\"\n",
    "    -> Student\n",
    "    ---\n",
    "    -> Department\n",
    "    declare_date :  date  # when student declared her major\n",
    "    \"\"\""
   ]
  },
  {
   "cell_type": "code",
   "execution_count": 4,
   "metadata": {},
   "outputs": [
    {
     "data": {
      "image/svg+xml": [
       "<svg height=\"116pt\" viewBox=\"0.00 0.00 161.00 116.00\" width=\"161pt\" xmlns=\"http://www.w3.org/2000/svg\" xmlns:xlink=\"http://www.w3.org/1999/xlink\">\n",
       "<g class=\"graph\" id=\"graph0\" transform=\"scale(1 1) rotate(0) translate(4 112)\">\n",
       "<polygon fill=\"white\" points=\"-4,4 -4,-112 157,-112 157,4 -4,4\" stroke=\"none\"/>\n",
       "<!-- Department -->\n",
       "<g class=\"node\" id=\"node1\"><title>Department</title>\n",
       "<g id=\"a_node1\"><a xlink:title=\"dept                 \r",
       "------------------------------\r",
       "dept_name            \r",
       "dept_address         \r",
       "dept_phone           \r",
       "\">\n",
       "<polygon fill=\"#00ff00\" fill-opacity=\"0.188235\" points=\"78.0227,-107.5 -0.0227424,-107.5 -0.0227424,-72.5 78.0227,-72.5 78.0227,-107.5\" stroke=\"#00ff00\" stroke-opacity=\"0.188235\"/>\n",
       "<text fill=\"darkgreen\" font-family=\"arial\" font-size=\"12.00\" text-anchor=\"middle\" x=\"39\" y=\"-87.2994\">Department</text>\n",
       "</a>\n",
       "</g>\n",
       "</g>\n",
       "<!-- StudentMajor -->\n",
       "<g class=\"node\" id=\"node3\"><title>StudentMajor</title>\n",
       "<g id=\"a_node3\"><a xlink:title=\"→ Student\r",
       "------------------------------\r",
       "→ Department\r",
       "declare_date         \r",
       "\">\n",
       "<polygon fill=\"#00ff00\" fill-opacity=\"0.188235\" points=\"125.529,-35.5 38.4709,-35.5 38.4709,-0.5 125.529,-0.5 125.529,-35.5\" stroke=\"#00ff00\" stroke-opacity=\"0.188235\"/>\n",
       "<text fill=\"darkgreen\" font-family=\"arial\" font-size=\"12.00\" text-anchor=\"middle\" x=\"82\" y=\"-15.2994\">StudentMajor</text>\n",
       "</a>\n",
       "</g>\n",
       "</g>\n",
       "<!-- Department&#45;&gt;StudentMajor -->\n",
       "<g class=\"edge\" id=\"edge1\"><title>Department-&gt;StudentMajor</title>\n",
       "<path d=\"M49.1904,-72.411C55.9456,-61.4141 64.7831,-47.0274 71.584,-35.9562\" fill=\"none\" stroke=\"#000000\" stroke-dasharray=\"5,2\" stroke-opacity=\"0.250980\" stroke-width=\"0.75\"/>\n",
       "</g>\n",
       "<!-- Student -->\n",
       "<g class=\"node\" id=\"node2\"><title>Student</title>\n",
       "<g id=\"a_node2\"><a xlink:title=\"student_id           \r",
       "------------------------------\r",
       "first_name           \r",
       "last_name            \r",
       "sex                  \r",
       "date_of_birth        \r",
       "student_address      \r",
       "student_phone        \r",
       "\">\n",
       "<polygon fill=\"#00ff00\" fill-opacity=\"0.188235\" points=\"153.524,-107.5 96.4756,-107.5 96.4756,-72.5 153.524,-72.5 153.524,-107.5\" stroke=\"#00ff00\" stroke-opacity=\"0.188235\"/>\n",
       "<text fill=\"darkgreen\" font-family=\"arial\" font-size=\"12.00\" text-anchor=\"middle\" x=\"125\" y=\"-87.2994\">Student</text>\n",
       "</a>\n",
       "</g>\n",
       "</g>\n",
       "<!-- Student&#45;&gt;StudentMajor -->\n",
       "<g class=\"edge\" id=\"edge2\"><title>Student-&gt;StudentMajor</title>\n",
       "<path d=\"M114.81,-72.411C108.054,-61.4141 99.2169,-47.0274 92.416,-35.9562\" fill=\"none\" stroke=\"#000000\" stroke-opacity=\"0.250980\" stroke-width=\"2\"/>\n",
       "</g>\n",
       "</g>\n",
       "</svg>"
      ],
      "text/plain": [
       "<datajoint.erd.ERD at 0x10c91b438>"
      ]
     },
     "execution_count": 4,
     "metadata": {},
     "output_type": "execute_result"
    }
   ],
   "source": [
    "dj.ERD(schema)"
   ]
  },
  {
   "cell_type": "code",
   "execution_count": 5,
   "metadata": {},
   "outputs": [],
   "source": [
    "@schema\n",
    "class Course(dj.Manual):\n",
    "    definition = \"\"\"\n",
    "    -> Department\n",
    "    course  : int unsigned   # course number, e.g. 1010\n",
    "    ---\n",
    "    course_name :  varchar(200)  # e.g. \"Neurobiology of Sensation and Movement.\"\n",
    "    credits     :  decimal(3,1)  # number of credits earned by completing the course\n",
    "    \"\"\"\n",
    "    \n",
    "    \n",
    "@schema\n",
    "class Term(dj.Manual):\n",
    "    definition = \"\"\"\n",
    "    term_year : year\n",
    "    term      : enum('Spring', 'Summer', 'Fall')\n",
    "    \"\"\"\n",
    "\n",
    "@schema\n",
    "class Section(dj.Manual):\n",
    "    definition = \"\"\"\n",
    "    -> Course\n",
    "    -> Term\n",
    "    section : char(1)\n",
    "    ---\n",
    "    auditorium   :  varchar(12)\n",
    "    \"\"\"\n",
    "    \n",
    "@schema\n",
    "class CurrentTerm(dj.Manual):\n",
    "    definition = \"\"\"\n",
    "    omega : enum('1')  # surrogate\n",
    "    ---\n",
    "    -> Term\n",
    "    \"\"\"\n",
    "\n",
    "@schema\n",
    "class Enroll(dj.Manual):\n",
    "    definition = \"\"\"\n",
    "    -> Section\n",
    "    -> Student\n",
    "    \"\"\"\n",
    "\n",
    "@schema\n",
    "class LetterGrade(dj.Manual):\n",
    "    definition = \"\"\"\n",
    "    grade : char\n",
    "    ---\n",
    "    points : decimal(3,2)\n",
    "    \"\"\"\n",
    "\n",
    "@schema\n",
    "class Grade(dj.Manual):\n",
    "    definition = \"\"\"\n",
    "    -> Enroll\n",
    "    ---\n",
    "    -> LetterGrade\n",
    "    \"\"\""
   ]
  },
  {
   "cell_type": "code",
   "execution_count": 6,
   "metadata": {},
   "outputs": [],
   "source": [
    "a = dj.ERD(schema)"
   ]
  },
  {
   "cell_type": "code",
   "execution_count": 7,
   "metadata": {},
   "outputs": [],
   "source": [
    "a.save('uni_erd.svg')"
   ]
  },
  {
   "cell_type": "code",
   "execution_count": null,
   "metadata": {},
   "outputs": [],
   "source": [
    "schema.drop()"
   ]
  },
  {
   "cell_type": "code",
   "execution_count": null,
   "metadata": {},
   "outputs": [],
   "source": [
    "import faker\n",
    "import random\n",
    "import itertools\n",
    "fake = faker.Faker()"
   ]
  },
  {
   "cell_type": "code",
   "execution_count": null,
   "metadata": {},
   "outputs": [],
   "source": [
    "def random_sex():\n",
    "    while True:\n",
    "        yield random.choice(('F','M'))\n",
    "\n",
    "Student().insert(dict(\n",
    "    student_id=student,\n",
    "    full_name=fake.name_female() if sex==\"M\" else fake.name_male(),\n",
    "    sex=sex,\n",
    "    dob=str(fake.date_time_between(start_date=\"-65y\", end_date=\"-15y\").date())) \n",
    "                 for student, sex in zip(range(100), random_sex()))"
   ]
  },
  {
   "cell_type": "code",
   "execution_count": null,
   "metadata": {},
   "outputs": [],
   "source": [
    "Student()"
   ]
  },
  {
   "cell_type": "code",
   "execution_count": null,
   "metadata": {},
   "outputs": [],
   "source": [
    "@schema\n",
    "class Term(dj.Lookup):\n",
    "    \"\"\"\n",
    "    # Academic term\n",
    "    year : year \n",
    "    semester : enum(\"Spring\", \"Summer\", \"Fall\")\n",
    "    \"\"\"\n",
    "    contents = ((year, semester) \n",
    "                for year in range(2000,2018) \n",
    "                for semester in ('Spring', 'Summer', 'Fall')) "
   ]
  },
  {
   "cell_type": "code",
   "execution_count": null,
   "metadata": {},
   "outputs": [],
   "source": [
    "Term()"
   ]
  },
  {
   "cell_type": "code",
   "execution_count": null,
   "metadata": {},
   "outputs": [],
   "source": [
    "@schema\n",
    "class Major(dj.Lookup):\n",
    "    \"\"\" # Major or Department\n",
    "    major :  char(5)  # short name\n",
    "    ---\n",
    "    full_major : varchar(18)\n",
    "    \"\"\"\n",
    "    contents = [\n",
    "        [\"CS\", \"Computer Science\"],\n",
    "        [\"BIOL\", \"Life Sciences\"],\n",
    "        [\"PHYS\", \"Physics\"],\n",
    "        [\"MATH\", \"Mathematics\"]\n",
    "    ]"
   ]
  },
  {
   "cell_type": "code",
   "execution_count": null,
   "metadata": {},
   "outputs": [],
   "source": [
    "Major()"
   ]
  },
  {
   "cell_type": "code",
   "execution_count": null,
   "metadata": {},
   "outputs": [],
   "source": [
    "@schema\n",
    "class Course(dj.Lookup):\n",
    "    \"\"\"  # available courses\n",
    "    -> Major\n",
    "    course  : smallint   \n",
    "    ----\n",
    "    course_title : varchar(255)  \n",
    "    credits : decimal(3,1)  # credit hours\n",
    "    \"\"\"\n",
    "\n",
    "    # from https://www.biology.utah.edu/pdf/undergraduate/Biology_Courses_Master%20List.pdf\n",
    "    contents = [\n",
    "        ['BIOL', 1006, 'World of Dinosaurs', 3],\n",
    "        ['BIOL', 1010, 'Biology in the 21st Century', 3],\n",
    "        ['BIOL', 1030, 'Human Biology', 3],\n",
    "        ['BIOL', 1210, 'Principles of Biology', 4],\n",
    "        ['BIOL', 2010, 'Evolution & Diversity of Life', 3],\n",
    "        ['BIOL', 2020, 'Principles of Cell Biology',  3],\n",
    "        ['BIOL', 2021, 'Principles of Cell Science',  4],\n",
    "        ['BIOL', 2030, 'Principles of Genetics',  3],\n",
    "        ['BIOL', 2210, 'Human Genetics',3],\n",
    "        ['BIOL', 2325, 'Human Anatomy', 4],\n",
    "        ['BIOL', 2330, 'Plants & Society', 3],\n",
    "        ['BIOL', 2355, 'Field Botany', 2],\n",
    "        ['BIOL', 2420, 'Human Physiology', 4],\n",
    "        \n",
    "        ['PHYS', 2040, 'Classcal Theoretical Physics II', 4],\n",
    "        ['PHYS', 2060, 'Quantum Mechanics', 3],\n",
    "        ['PHYS', 2100, 'General Relativity and Cosmology', 3],\n",
    "        ['PHYS', 2140, 'Statistical Mechanics', 4]]"
   ]
  },
  {
   "cell_type": "code",
   "execution_count": null,
   "metadata": {},
   "outputs": [],
   "source": [
    "Course()"
   ]
  },
  {
   "cell_type": "code",
   "execution_count": null,
   "metadata": {},
   "outputs": [],
   "source": [
    "@schema\n",
    "class Section(dj.Manual):\n",
    "    \"\"\" # Course sections\n",
    "    -> Course\n",
    "    -> Term\n",
    "    \"\"\""
   ]
  },
  {
   "cell_type": "code",
   "execution_count": null,
   "metadata": {},
   "outputs": [],
   "source": [
    "courses = list(Course().fetch.keys())\n",
    "\n",
    "Section().insert(\n",
    "    dict(**term_key, **course_key)\n",
    "    for term_key in Term().fetch.keys()\n",
    "    for course_key in random.sample(courses, 8))"
   ]
  },
  {
   "cell_type": "code",
   "execution_count": null,
   "metadata": {},
   "outputs": [],
   "source": [
    "Section()"
   ]
  },
  {
   "cell_type": "code",
   "execution_count": null,
   "metadata": {
    "collapsed": true
   },
   "outputs": [],
   "source": [
    "@schema\n",
    "class Enroll(dj.Manual):\n",
    "    \"\"\"\n",
    "    # Student enrollment in sections\n",
    "    -> Student\n",
    "    -> Course\n",
    "    ---\n",
    "    -> Section    \n",
    "    \"\"\""
   ]
  },
  {
   "cell_type": "code",
   "execution_count": null,
   "metadata": {},
   "outputs": [],
   "source": [
    "Enroll()"
   ]
  },
  {
   "cell_type": "code",
   "execution_count": null,
   "metadata": {},
   "outputs": [],
   "source": [
    "dj.ERD(schema)"
   ]
  },
  {
   "cell_type": "code",
   "execution_count": null,
   "metadata": {
    "collapsed": true
   },
   "outputs": [],
   "source": [
    "# sections = list((Section() & 'year>2010').fetch.keys())\n",
    "# Enroll().insert(dict(**student_key, **section_key)\n",
    "#     for student_key in Student().fetch.keys()\n",
    "#     for section_key in random.sample(sections, random.randint(30))\n",
    "# )"
   ]
  },
  {
   "cell_type": "code",
   "execution_count": null,
   "metadata": {},
   "outputs": [],
   "source": [
    "schema.drop()"
   ]
  },
  {
   "cell_type": "code",
   "execution_count": null,
   "metadata": {},
   "outputs": [],
   "source": [
    "@schema\n",
    "class Required(dj.Lookup):\n",
    "    \"\"\"  # Required courses in each major\n",
    "    -> Course    \n",
    "    \"\"\"\n",
    " \n",
    "    contents = [\n",
    "        ['BIOL', 1030],\n",
    "        ['BIOL', 1210],\n",
    "        ['BIOL', 2010],\n",
    "        ['BIOL', 2020],\n",
    "        ['BIOL', 2021],\n",
    "        ['PHYS', 2040],\n",
    "        ['PHYS', 2060],\n",
    "        ['PHYS', 2100]] \n",
    "    "
   ]
  },
  {
   "cell_type": "code",
   "execution_count": null,
   "metadata": {},
   "outputs": [],
   "source": [
    "# Students that have taken all required courses\n",
    "ready = Student()*StudentMajor() - (Student()*StudentMajor()*Required() - (Enroll() & CourseGrade())).proj()"
   ]
  },
  {
   "cell_type": "code",
   "execution_count": null,
   "metadata": {},
   "outputs": [],
   "source": [
    "ready.make_sql()"
   ]
  },
  {
   "cell_type": "code",
   "execution_count": null,
   "metadata": {},
   "outputs": [],
   "source": [
    "(Student()*Required() - Enroll()).make_sql()"
   ]
  },
  {
   "cell_type": "code",
   "execution_count": null,
   "metadata": {},
   "outputs": [],
   "source": [
    "schema.drop()"
   ]
  },
  {
   "cell_type": "code",
   "execution_count": null,
   "metadata": {
    "collapsed": true
   },
   "outputs": [],
   "source": [
    "@schema\n",
    "class StudentMajor(dj.Manual):\n",
    "    \"\"\" # Major declared by student\n",
    "    -> Student\n",
    "    ---\n",
    "    -> Major\n",
    "    \"\"\""
   ]
  },
  {
   "cell_type": "code",
   "execution_count": null,
   "metadata": {
    "collapsed": true
   },
   "outputs": [],
   "source": [
    "@schema\n",
    "class Grade(dj.Lookup):\n",
    "    \"\"\"\n",
    "    grade : char(2)\n",
    "    ---\n",
    "    points : decimal(3,2)\n",
    "    \"\"\"\n",
    "    contents = [\n",
    "        ['A',  4.00],\n",
    "        ['A-', 3.67],\n",
    "        ['B+', 3.33],\n",
    "        ['B',  3.00],\n",
    "        ['B-', 2.67],\n",
    "        ['C+', 2.33],\n",
    "        ['C',  2.00],\n",
    "        ['C-', 1.67],\n",
    "    ]"
   ]
  },
  {
   "cell_type": "code",
   "execution_count": null,
   "metadata": {
    "collapsed": true
   },
   "outputs": [],
   "source": [
    "@schema\n",
    "class CourseGrade(dj.Lookup):\n",
    "    \"\"\"\n",
    "    -> Enroll\n",
    "    ---\n",
    "    -> Grade\n",
    "    \"\"\""
   ]
  },
  {
   "cell_type": "code",
   "execution_count": null,
   "metadata": {
    "collapsed": true
   },
   "outputs": [],
   "source": []
  }
 ],
 "metadata": {
  "kernelspec": {
   "display_name": "Python 3",
   "language": "python",
   "name": "python3"
  },
  "language_info": {
   "codemirror_mode": {
    "name": "ipython",
    "version": 3
   },
   "file_extension": ".py",
   "mimetype": "text/x-python",
   "name": "python",
   "nbconvert_exporter": "python",
   "pygments_lexer": "ipython3",
   "version": "3.6.0"
  }
 },
 "nbformat": 4,
 "nbformat_minor": 2
}
