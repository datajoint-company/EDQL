{
 "cells": [
  {
   "cell_type": "code",
   "execution_count": null,
   "metadata": {
    "collapsed": true
   },
   "outputs": [],
   "source": [
    "%matplotlib inline"
   ]
  },
  {
   "cell_type": "code",
   "execution_count": null,
   "metadata": {},
   "outputs": [],
   "source": [
    "import datajoint as dj\n",
    "schema = dj.schema('dimitri_university')\n",
    "schema.spawn_missing_classes()"
   ]
  },
  {
   "cell_type": "code",
   "execution_count": null,
   "metadata": {},
   "outputs": [],
   "source": [
    "dj.ERD(schema)"
   ]
  },
  {
   "cell_type": "markdown",
   "metadata": {},
   "source": [
    "# Generate fake data"
   ]
  },
  {
   "cell_type": "code",
   "execution_count": null,
   "metadata": {},
   "outputs": [],
   "source": [
    "# Cleanup from previous run\n",
    "Department.delete()\n",
    "Student.delete()\n",
    "LetterGrade.delete()\n",
    "Term.delete()"
   ]
  },
  {
   "cell_type": "code",
   "execution_count": null,
   "metadata": {
    "collapsed": true
   },
   "outputs": [],
   "source": [
    "from tqdm import tqdm\n",
    "import faker\n",
    "import random\n",
    "import itertools\n",
    "import datetime\n",
    "fake = faker.Faker()"
   ]
  },
  {
   "cell_type": "markdown",
   "metadata": {},
   "source": [
    "## Students"
   ]
  },
  {
   "cell_type": "code",
   "execution_count": null,
   "metadata": {
    "collapsed": true
   },
   "outputs": [],
   "source": [
    "def yield_students():\n",
    "    fake_name = {'F': fake.name_female, 'M': fake.name_male}\n",
    "    while True:  # ignore invalid values\n",
    "        try:\n",
    "            sex = random.choice(('F', 'M'))\n",
    "            first_name, last_name = fake_name[sex]().split(' ')[:2]\n",
    "            street_address, city = fake.address().split('\\n')\n",
    "            city, state = city.split(', ')\n",
    "            state, zipcode = state.split(' ')            \n",
    "        except ValueError:\n",
    "            continue\n",
    "        else:\n",
    "            yield dict(\n",
    "                first_name=first_name,\n",
    "                last_name=last_name,\n",
    "                sex=sex,\n",
    "                home_address=street_address,\n",
    "                home_city=city,\n",
    "                home_state=state,\n",
    "                home_zip=zipcode,\n",
    "                date_of_birth=str(\n",
    "                    fake.date_time_between(start_date=\"-35y\", end_date=\"-15y\").date()),\n",
    "                home_phone = fake.phone_number())"
   ]
  },
  {
   "cell_type": "code",
   "execution_count": null,
   "metadata": {
    "collapsed": true
   },
   "outputs": [],
   "source": [
    "Student.insert(\n",
    "    dict(k, student_id=i) for i, k in zip(range(1000,9000), yield_students()))"
   ]
  },
  {
   "cell_type": "code",
   "execution_count": null,
   "metadata": {},
   "outputs": [],
   "source": [
    "Student()"
   ]
  },
  {
   "cell_type": "markdown",
   "metadata": {},
   "source": [
    "## Departments, majors, and courses"
   ]
  },
  {
   "cell_type": "code",
   "execution_count": null,
   "metadata": {
    "collapsed": true
   },
   "outputs": [],
   "source": [
    "Department.insert(\n",
    "    dict(dept=dept, \n",
    "         dept_name=name, \n",
    "         dept_address=fake.address(), \n",
    "         dept_phone=fake.phone_number())\n",
    "    for dept, name in [\n",
    "        [\"CS\", \"Computer Science\"],\n",
    "        [\"BIOL\", \"Life Sciences\"],\n",
    "        [\"PHYS\", \"Physics\"],\n",
    "        [\"MATH\", \"Mathematics\"]])"
   ]
  },
  {
   "cell_type": "code",
   "execution_count": null,
   "metadata": {
    "collapsed": true
   },
   "outputs": [],
   "source": [
    "StudentMajor.insert({**s, **d, \n",
    "                     'declare_date':fake.date_between(start_date=datetime.date(1999,1,1))}\n",
    "    for s, d in zip(Student.fetch('KEY'), random.choices(Department.fetch('KEY'), k=len(Student())))\n",
    "                   if random.random() < 0.75)"
   ]
  },
  {
   "cell_type": "code",
   "execution_count": null,
   "metadata": {
    "collapsed": true
   },
   "outputs": [],
   "source": [
    "# from https://www.utah.edu/\n",
    "Course.insert([\n",
    "    ['BIOL', 1006, 'World of Dinosaurs', 3],\n",
    "    ['BIOL', 1010, 'Biology in the 21st Century', 3],\n",
    "    ['BIOL', 1030, 'Human Biology', 3],\n",
    "    ['BIOL', 1210, 'Principles of Biology', 4],\n",
    "    ['BIOL', 2010, 'Evolution & Diversity of Life', 3],\n",
    "    ['BIOL', 2020, 'Principles of Cell Biology',  3],\n",
    "    ['BIOL', 2021, 'Principles of Cell Science',  4],\n",
    "    ['BIOL', 2030, 'Principles of Genetics',  3],\n",
    "    ['BIOL', 2210, 'Human Genetics',3],\n",
    "    ['BIOL', 2325, 'Human Anatomy', 4],\n",
    "    ['BIOL', 2330, 'Plants & Society', 3],\n",
    "    ['BIOL', 2355, 'Field Botany', 2],\n",
    "    ['BIOL', 2420, 'Human Physiology', 4],\n",
    "\n",
    "    ['PHYS', 2040, 'Classcal Theoretical Physics II', 4],\n",
    "    ['PHYS', 2060, 'Quantum Mechanics', 3],\n",
    "    ['PHYS', 2100, 'General Relativity and Cosmology', 3],\n",
    "    ['PHYS', 2140, 'Statistical Mechanics', 4],\n",
    "    \n",
    "    ['PHYS', 2210, 'Physics for Scientists and Engineers I', 4], \n",
    "    ['PHYS', 2220, 'Physics for Scientists and Engineers II', 4],\n",
    "    ['PHYS', 3210, 'Physics for Scientists I (Honors)', 4],\n",
    "    ['PHYS', 3220, 'Physics for Scientists II (Honors)', 4],\n",
    "    \n",
    "    ['MATH', 1250, 'Calculus for AP Students I', 4],\n",
    "    ['MATH', 1260, 'Calculus for AP Students II', 4],\n",
    "    ['MATH', 1210, 'Calculus I', 4],\n",
    "    ['MATH', 1220, 'Calculus II', 4],\n",
    "    ['MATH', 2210, 'Calculus III', 3],\n",
    " \n",
    "    ['MATH', 2270, 'Linear Algebra', 4],\n",
    "    ['MATH', 2280, 'Introduction to Differential Equations', 4],\n",
    "    ['MATH', 3210, 'Foundations of Analysis I', 4],\n",
    "    ['MATH', 3220, 'Foundations of Analysis II', 4],\n",
    "    \n",
    "    ['CS', 1030, 'Foundations of Computer Science', 3],\n",
    "    ['CS', 1410, 'Introduction to Object-Oriented Programming', 4],\n",
    "    ['CS', 2420, 'Introduction to Algorithms & Data Structures', 4],\n",
    "    ['CS', 2100, 'Discrete Structures', 3],\n",
    "    ['CS', 3500, 'Software Practice', 4],\n",
    "    ['CS', 3505, 'Software Practice II', 3],\n",
    "    ['CS', 3810, 'Computer Organization', 4],\n",
    "    ['CS', 4400, 'Computer Systems', 4],\n",
    "    ['CS', 4150, 'Algorithms', 3],\n",
    "    ['CS', 3100, 'Models of Computation', 3],\n",
    "    ['CS', 3200, 'Introduction to Scientific Computing', 3],\n",
    "    ['CS', 4000, 'Senior Capstone Project - Design Phase', 3],\n",
    "    ['CS', 4500, 'Senior Capstone Project', 3],\n",
    "    ['CS', 4940, 'Undergraduate Research', 3],\n",
    "    ['CS', 4970, 'Computer Science Bachelor''s Thesis', 3]])"
   ]
  },
  {
   "cell_type": "markdown",
   "metadata": {},
   "source": [
    "## Terms and course sections"
   ]
  },
  {
   "cell_type": "code",
   "execution_count": null,
   "metadata": {
    "collapsed": true
   },
   "outputs": [],
   "source": [
    "Term.insert(dict(term_year=year, term=term) \n",
    "            for year in range(1999, 2019) \n",
    "            for term in ['Spring', 'Summer', 'Fall'])\n",
    "\n",
    "Term().fetch(order_by=('term_year DESC', 'term DESC'), as_dict=True, limit=1)[0]\n",
    "\n",
    "CurrentTerm().insert1({\n",
    "    'omega': 1, \n",
    "    **Term().fetch(order_by=('term_year DESC', 'term DESC'), as_dict=True, limit=1)[0]})\n",
    "\n",
    "def make_section(prob):\n",
    "    for c in (Course * Term).proj():\n",
    "        for sec in 'abcd':\n",
    "            if random.random() < prob:\n",
    "                break\n",
    "            yield {\n",
    "                **c, 'section': sec, \n",
    "                'auditorium': random.choice('ABCDEF') + str(random.randint(1,100))}   \n",
    "\n",
    "Section.insert(make_section(0.5))"
   ]
  },
  {
   "cell_type": "code",
   "execution_count": null,
   "metadata": {},
   "outputs": [],
   "source": [
    "Section()"
   ]
  },
  {
   "cell_type": "code",
   "execution_count": null,
   "metadata": {
    "collapsed": true
   },
   "outputs": [],
   "source": [
    "LetterGrade.insert([\n",
    "    ['A',  4.00],\n",
    "    ['A-', 3.67],\n",
    "    ['B+', 3.33],\n",
    "    ['B',  3.00],\n",
    "    ['B-', 2.67],\n",
    "    ['C+', 2.33],\n",
    "    ['C',  2.00],\n",
    "    ['C-', 1.67],\n",
    "    ['D+', 1.33],\n",
    "    ['D',  1.00],\n",
    "    ['F',  0.00]])"
   ]
  },
  {
   "cell_type": "markdown",
   "metadata": {},
   "source": [
    "## Enrollment and grades"
   ]
  },
  {
   "cell_type": "code",
   "execution_count": null,
   "metadata": {},
   "outputs": [],
   "source": [
    "terms = Term().fetch('KEY')\n",
    "quit_prob = 0.1\n",
    "for student in tqdm(Student.fetch('KEY')):\n",
    "    start_term = random.randrange(len(terms))\n",
    "    for term in terms[start_term:]:\n",
    "        if random.random() < quit_prob:\n",
    "            break\n",
    "        else:\n",
    "            sections = ((Section & term) - (Course & (Enroll & student))).fetch('KEY')\n",
    "            if sections:\n",
    "                Enroll.insert({**student, **section} for section in \n",
    "                              random.sample(sections, random.randrange(min(5, len(sections)))))"
   ]
  },
  {
   "cell_type": "code",
   "execution_count": null,
   "metadata": {},
   "outputs": [],
   "source": [
    "Enroll()"
   ]
  },
  {
   "cell_type": "code",
   "execution_count": null,
   "metadata": {
    "collapsed": true
   },
   "outputs": [],
   "source": [
    "from matplotlib import pyplot as plt"
   ]
  },
  {
   "cell_type": "code",
   "execution_count": null,
   "metadata": {},
   "outputs": [],
   "source": [
    "plt.hist(Student.aggr(Enroll, n='count(*)').fetch('n'), list(range(60)))\n",
    "plt.xlabel('Courses per student');"
   ]
  },
  {
   "cell_type": "code",
   "execution_count": null,
   "metadata": {},
   "outputs": [],
   "source": [
    "# assign random grades\n",
    "grades = LetterGrade.fetch('grade')"
   ]
  },
  {
   "cell_type": "code",
   "execution_count": null,
   "metadata": {},
   "outputs": [],
   "source": [
    "grade_keys = Enroll.fetch('KEY')\n",
    "random.shuffle(grade_keys)\n",
    "grade_keys = grade_keys[:len(grade_keys)*9//10]"
   ]
  },
  {
   "cell_type": "code",
   "execution_count": null,
   "metadata": {},
   "outputs": [],
   "source": [
    "Grade.insert({**key, 'grade':grade} \n",
    "             for key, grade in zip(grade_keys, random.choices(grades, k=len(grade_keys))))"
   ]
  }
 ],
 "metadata": {
  "kernelspec": {
   "display_name": "Python 3",
   "language": "python",
   "name": "python3"
  },
  "language_info": {
   "codemirror_mode": {
    "name": "ipython",
    "version": 3
   },
   "file_extension": ".py",
   "mimetype": "text/x-python",
   "name": "python",
   "nbconvert_exporter": "python",
   "pygments_lexer": "ipython3",
   "version": "3.6.0"
  }
 },
 "nbformat": 4,
 "nbformat_minor": 2
}
