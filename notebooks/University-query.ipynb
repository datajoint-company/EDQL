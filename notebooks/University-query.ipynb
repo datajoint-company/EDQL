{
 "cells": [
  {
   "cell_type": "code",
   "execution_count": null,
   "metadata": {
    "collapsed": true
   },
   "outputs": [],
   "source": [
    "%matplotlib inline"
   ]
  },
  {
   "cell_type": "code",
   "execution_count": null,
   "metadata": {
    "collapsed": true
   },
   "outputs": [],
   "source": [
    "import datajoint as dj\n",
    "schema = dj.schema('dimitri_university')\n",
    "schema.spawn_missing_classes()"
   ]
  },
  {
   "cell_type": "code",
   "execution_count": null,
   "metadata": {
    "collapsed": true
   },
   "outputs": [],
   "source": [
    "dj.ERD(schema)"
   ]
  },
  {
   "cell_type": "markdown",
   "metadata": {},
   "source": [
    "# Example queries"
   ]
  },
  {
   "cell_type": "markdown",
   "metadata": {},
   "source": [
    "## Restriction"
   ]
  },
  {
   "cell_type": "code",
   "execution_count": null,
   "metadata": {
    "collapsed": true
   },
   "outputs": [],
   "source": [
    "# Students from Texas\n",
    "Student & {'home_state': 'TX'}\n",
    "Student & 'home_state=\"TX\"'"
   ]
  },
  {
   "cell_type": "code",
   "execution_count": null,
   "metadata": {
    "collapsed": true
   },
   "outputs": [],
   "source": [
    "# Male students from outside Texas\n",
    "Student - {'home_state': 'TX'}\n",
    "Student - 'home_state=\"TX\"'\n",
    "Student & 'home_state <> \"TX\"'"
   ]
  },
  {
   "cell_type": "code",
   "execution_count": null,
   "metadata": {
    "collapsed": true
   },
   "outputs": [],
   "source": [
    "# Male students from outside Texas\n",
    "Student & {'sex=\"M\" and home_state <> \"TX\"'}\n",
    "(Student & {'sex':\"M\"}) - {'home_state': \"TX\"}"
   ]
  },
  {
   "cell_type": "code",
   "execution_count": null,
   "metadata": {
    "collapsed": true
   },
   "outputs": [],
   "source": [
    "# Students from TX, OK, or NM\n",
    "Student & [{'home_state':'OK'}, {'home_state':'NM'}, {'home_state':'TX'}] \n",
    "Student & [{'home_state': s} for s in ('OK','NM','TX')]\n",
    "Student & 'home_state in (\"OK\", \"NM\", \"TX\")'"
   ]
  },
  {
   "cell_type": "code",
   "execution_count": null,
   "metadata": {
    "collapsed": true
   },
   "outputs": [],
   "source": [
    "# Millenials\n",
    "Student & 'date_of_birth between \"1981-01-01\" and \"1996-12-31\"'"
   ]
  },
  {
   "cell_type": "code",
   "execution_count": null,
   "metadata": {
    "collapsed": true
   },
   "outputs": [],
   "source": [
    "# Students who have taken classes\n",
    "Student & Enroll"
   ]
  },
  {
   "cell_type": "code",
   "execution_count": null,
   "metadata": {
    "collapsed": true
   },
   "outputs": [],
   "source": [
    "# Students who have not taken classes\n",
    "Student - Enroll"
   ]
  },
  {
   "cell_type": "code",
   "execution_count": null,
   "metadata": {
    "collapsed": true
   },
   "outputs": [],
   "source": [
    "# Students who have taken Biology classes but no MATH courses\n",
    "(Student & (Enroll & 'dept=\"BIOL\"')) - (Enroll & 'dept=\"MATH\"')"
   ]
  },
  {
   "cell_type": "code",
   "execution_count": null,
   "metadata": {
    "collapsed": true
   },
   "outputs": [],
   "source": [
    "# Students who have not selected a major\n",
    "Student - StudentMajor"
   ]
  },
  {
   "cell_type": "code",
   "execution_count": null,
   "metadata": {
    "collapsed": true
   },
   "outputs": [],
   "source": [
    "# Students who are taking courses in the current term\n",
    "Student - (Enroll & CurrentTerm)"
   ]
  },
  {
   "cell_type": "code",
   "execution_count": null,
   "metadata": {
    "collapsed": true
   },
   "outputs": [],
   "source": [
    "# Ungraded courses\n",
    "Enroll - Grade"
   ]
  },
  {
   "cell_type": "code",
   "execution_count": null,
   "metadata": {
    "collapsed": true
   },
   "outputs": [],
   "source": [
    "# Ungraded courses in the current term\n",
    "(Enroll & CurrentTerm) - Grade"
   ]
  },
  {
   "cell_type": "code",
   "execution_count": null,
   "metadata": {
    "collapsed": true
   },
   "outputs": [],
   "source": [
    "# Students who have taken classes and have chosen a major\n",
    "Student & Enroll & StudentMajor "
   ]
  },
  {
   "cell_type": "code",
   "execution_count": null,
   "metadata": {
    "collapsed": true
   },
   "outputs": [],
   "source": [
    "#Students who have taken classes or have chosen a major\n",
    "Student & [Enroll, StudentMajor]"
   ]
  },
  {
   "cell_type": "code",
   "execution_count": null,
   "metadata": {
    "collapsed": true
   },
   "outputs": [],
   "source": [
    "# Enrollment in courses from the same department as the students' major\n",
    "Enroll & StudentMajor"
   ]
  },
  {
   "cell_type": "markdown",
   "metadata": {},
   "source": [
    "## Join"
   ]
  },
  {
   "cell_type": "code",
   "execution_count": null,
   "metadata": {
    "collapsed": true
   },
   "outputs": [],
   "source": [
    "# Grade point values\n",
    "Grade * LetterGrade"
   ]
  },
  {
   "cell_type": "code",
   "execution_count": null,
   "metadata": {
    "collapsed": true
   },
   "outputs": [],
   "source": [
    "# Graded enrollments with complete course and student information\n",
    "Student * Enroll * Course * Section * Grade * LetterGrade"
   ]
  },
  {
   "cell_type": "code",
   "execution_count": null,
   "metadata": {
    "collapsed": true
   },
   "outputs": [],
   "source": [
    "# Students with ungraded courses in current term\n",
    "Student & (Enroll * CurrentTerm - Grade)"
   ]
  },
  {
   "cell_type": "code",
   "execution_count": null,
   "metadata": {
    "collapsed": true
   },
   "outputs": [],
   "source": [
    "# Enrollments before students' date of birth\n",
    "Student * Enroll & 'term_year <= date_of_birth'"
   ]
  },
  {
   "cell_type": "markdown",
   "metadata": {},
   "source": [
    "## Proj"
   ]
  },
  {
   "cell_type": "code",
   "execution_count": null,
   "metadata": {
    "collapsed": true
   },
   "outputs": [],
   "source": [
    "# remove student personal info other than home state and sex\n",
    "Student.proj('home_state', 'sex')"
   ]
  },
  {
   "cell_type": "code",
   "execution_count": null,
   "metadata": {
    "collapsed": true
   },
   "outputs": [],
   "source": [
    "# Student major\n",
    "Student.proj('first_name','last_name')*StudentMajor.proj(major='dept')"
   ]
  },
  {
   "cell_type": "code",
   "execution_count": null,
   "metadata": {
    "collapsed": true
   },
   "outputs": [],
   "source": [
    "# Enrollment with major information\n",
    "Enroll * StudentMajor.proj(major='dept')"
   ]
  },
  {
   "cell_type": "code",
   "execution_count": null,
   "metadata": {
    "collapsed": true
   },
   "outputs": [],
   "source": [
    "# Enrollment outside chosen major\n",
    "Enroll * StudentMajor.proj(major='dept') & 'major<>dept'"
   ]
  },
  {
   "cell_type": "code",
   "execution_count": null,
   "metadata": {
    "collapsed": true
   },
   "outputs": [],
   "source": [
    "# Enrollment not matching major \n",
    "Enroll - StudentMajor "
   ]
  },
  {
   "cell_type": "code",
   "execution_count": null,
   "metadata": {
    "collapsed": true
   },
   "outputs": [],
   "source": [
    "# Total grade points\n",
    "(Course * Grade * LetterGrade).proj(total='points*credits')"
   ]
  },
  {
   "cell_type": "markdown",
   "metadata": {},
   "source": [
    "## Aggr"
   ]
  },
  {
   "cell_type": "code",
   "execution_count": null,
   "metadata": {
    "collapsed": true
   },
   "outputs": [],
   "source": [
    "# Students in each section\n",
    "Section.aggr(Enroll, n='count(*)')"
   ]
  },
  {
   "cell_type": "code",
   "execution_count": null,
   "metadata": {
    "collapsed": true
   },
   "outputs": [],
   "source": [
    "# Average grade in each course\n",
    "Course.aggr(Grade*LetterGrade, avg_grade='avg(points)')"
   ]
  },
  {
   "cell_type": "code",
   "execution_count": null,
   "metadata": {
    "collapsed": true
   },
   "outputs": [],
   "source": [
    "# Fraction graded in each section\n",
    "(Section.aggr(Enroll,n='count(*)') * Section.aggr(Grade, m='count(*)')).proj(\n",
    "    'm','n',frac='m/n')"
   ]
  },
  {
   "cell_type": "code",
   "execution_count": null,
   "metadata": {
    "collapsed": true
   },
   "outputs": [],
   "source": [
    "# GPA\n",
    "Student.aggr(Course * Grade * LetterGrade, \n",
    "             gpa='sum(points*credits)/sum(credits)')"
   ]
  },
  {
   "cell_type": "code",
   "execution_count": null,
   "metadata": {
    "collapsed": true
   },
   "outputs": [],
   "source": [
    "# GPA in current Term\n",
    "Student.aggr(Course * Grade * LetterGrade & CurrentTerm, \n",
    "             gpa='sum(points*credits)/sum(credits)')"
   ]
  },
  {
   "cell_type": "code",
   "execution_count": null,
   "metadata": {
    "collapsed": true
   },
   "outputs": [],
   "source": [
    "# Average GPA for each major\n",
    "gpa = Student.aggr(Course * Grade * LetterGrade,\n",
    "                   gpa='sum(points*credits)/sum(credits)')\n",
    "Department.aggr(StudentMajor*gpa, avg_gpa='avg(gpa)')"
   ]
  },
  {
   "cell_type": "markdown",
   "metadata": {},
   "source": [
    "## Relation U"
   ]
  },
  {
   "cell_type": "code",
   "execution_count": null,
   "metadata": {
    "collapsed": true
   },
   "outputs": [],
   "source": [
    "# All home states\n",
    "dj.U('home_state') & Student"
   ]
  },
  {
   "cell_type": "code",
   "execution_count": null,
   "metadata": {
    "collapsed": true
   },
   "outputs": [],
   "source": [
    "# Unique last names\n",
    "dj.U('last_name') & Student "
   ]
  },
  {
   "cell_type": "code",
   "execution_count": null,
   "metadata": {
    "collapsed": true
   },
   "outputs": [],
   "source": [
    "# Number of students from each state by gender\n",
    "dj.U('home_state', 'sex').aggr(Student, n='count(*)')"
   ]
  },
  {
   "cell_type": "code",
   "execution_count": null,
   "metadata": {
    "collapsed": true
   },
   "outputs": [],
   "source": [
    "# GPA by sex\n",
    "dj.U('sex').aggr(Student*gpa, avg_gpa ='avg(gpa)')"
   ]
  },
  {
   "cell_type": "code",
   "execution_count": null,
   "metadata": {
    "collapsed": true
   },
   "outputs": [],
   "source": [
    "# Sex ratio for gender neutral names\n",
    "dj.U('first_name').aggr(Student, percent_male='100*avg(sex=\"M\")'\n",
    "                       ) & 'percent_male > 0 and percent_male < 100'"
   ]
  },
  {
   "cell_type": "code",
   "execution_count": null,
   "metadata": {
    "collapsed": true
   },
   "outputs": [],
   "source": [
    "# Students with the same birthdays\n",
    "s1 = Student.proj('date_of_birth', s1='student_id') * dj.U('date_of_birth')\n",
    "s2 = Student.proj('date_of_birth', s2='student_id') * dj.U('date_of_birth')\n",
    "s1 * s2 & 's1 < s2'"
   ]
  },
  {
   "cell_type": "code",
   "execution_count": null,
   "metadata": {
    "collapsed": true
   },
   "outputs": [],
   "source": []
  }
 ],
 "metadata": {
  "kernelspec": {
   "display_name": "Python 3",
   "language": "python",
   "name": "python3"
  },
  "language_info": {
   "codemirror_mode": {
    "name": "ipython",
    "version": 3
   },
   "file_extension": ".py",
   "mimetype": "text/x-python",
   "name": "python",
   "nbconvert_exporter": "python",
   "pygments_lexer": "ipython3",
   "version": "3.6.0"
  }
 },
 "nbformat": 4,
 "nbformat_minor": 2
}
